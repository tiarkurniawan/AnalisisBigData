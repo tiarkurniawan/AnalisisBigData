{
  "nbformat": 4,
  "nbformat_minor": 0,
  "metadata": {
    "colab": {
      "provenance": []
    },
    "kernelspec": {
      "name": "python3",
      "display_name": "Python 3"
    },
    "language_info": {
      "name": "python"
    }
  },
  "cells": [
    {
      "cell_type": "markdown",
      "source": [
        "Import Library"
      ],
      "metadata": {
        "id": "lflvHJ0qLPHV"
      }
    },
    {
      "cell_type": "code",
      "execution_count": 1,
      "metadata": {
        "id": "cEvV4GtULOVJ"
      },
      "outputs": [],
      "source": [
        "import pandas as pd\n",
        "import matplotlib.pyplot as plt\n",
        "import seaborn as sns"
      ]
    },
    {
      "cell_type": "markdown",
      "source": [
        "Load Data"
      ],
      "metadata": {
        "id": "lpylGPvOLZtc"
      }
    },
    {
      "cell_type": "code",
      "source": [
        "from google.colab import drive\n",
        "drive.mount('/content/drive')"
      ],
      "metadata": {
        "colab": {
          "base_uri": "https://localhost:8080/"
        },
        "id": "34TBJdWMLa6k",
        "outputId": "131f9f6a-8499-409d-a9ec-215bf6402976"
      },
      "execution_count": 2,
      "outputs": [
        {
          "output_type": "stream",
          "name": "stdout",
          "text": [
            "Mounted at /content/drive\n"
          ]
        }
      ]
    },
    {
      "cell_type": "code",
      "source": [
        "df = pd.read_csv('/content/drive/MyDrive/bigdata/assessments.csv')"
      ],
      "metadata": {
        "id": "QKq4TfbnLxJg"
      },
      "execution_count": 3,
      "outputs": []
    },
    {
      "cell_type": "markdown",
      "source": [
        "EDA"
      ],
      "metadata": {
        "id": "FDGM9G0yLUI7"
      }
    },
    {
      "cell_type": "code",
      "source": [
        "df"
      ],
      "metadata": {
        "colab": {
          "base_uri": "https://localhost:8080/",
          "height": 423
        },
        "id": "hZOuEpg-NrK0",
        "outputId": "6fda4ec3-d90c-45c0-9849-8d4d1a038bd0"
      },
      "execution_count": 4,
      "outputs": [
        {
          "output_type": "execute_result",
          "data": {
            "text/plain": [
              "    code_module code_presentation  id_assessment assessment_type   date  \\\n",
              "0           AAA             2013J           1752             TMA   19.0   \n",
              "1           AAA             2013J           1753             TMA   54.0   \n",
              "2           AAA             2013J           1754             TMA  117.0   \n",
              "3           AAA             2013J           1755             TMA  166.0   \n",
              "4           AAA             2013J           1756             TMA  215.0   \n",
              "..          ...               ...            ...             ...    ...   \n",
              "201         GGG             2014J          37443             CMA  229.0   \n",
              "202         GGG             2014J          37435             TMA   61.0   \n",
              "203         GGG             2014J          37436             TMA  124.0   \n",
              "204         GGG             2014J          37437             TMA  173.0   \n",
              "205         GGG             2014J          37444            Exam  229.0   \n",
              "\n",
              "     weight  \n",
              "0      10.0  \n",
              "1      20.0  \n",
              "2      20.0  \n",
              "3      20.0  \n",
              "4      30.0  \n",
              "..      ...  \n",
              "201     0.0  \n",
              "202     0.0  \n",
              "203     0.0  \n",
              "204     0.0  \n",
              "205   100.0  \n",
              "\n",
              "[206 rows x 6 columns]"
            ],
            "text/html": [
              "\n",
              "  <div id=\"df-8d6009a3-9969-4df9-a72f-8ac45f0e51a1\" class=\"colab-df-container\">\n",
              "    <div>\n",
              "<style scoped>\n",
              "    .dataframe tbody tr th:only-of-type {\n",
              "        vertical-align: middle;\n",
              "    }\n",
              "\n",
              "    .dataframe tbody tr th {\n",
              "        vertical-align: top;\n",
              "    }\n",
              "\n",
              "    .dataframe thead th {\n",
              "        text-align: right;\n",
              "    }\n",
              "</style>\n",
              "<table border=\"1\" class=\"dataframe\">\n",
              "  <thead>\n",
              "    <tr style=\"text-align: right;\">\n",
              "      <th></th>\n",
              "      <th>code_module</th>\n",
              "      <th>code_presentation</th>\n",
              "      <th>id_assessment</th>\n",
              "      <th>assessment_type</th>\n",
              "      <th>date</th>\n",
              "      <th>weight</th>\n",
              "    </tr>\n",
              "  </thead>\n",
              "  <tbody>\n",
              "    <tr>\n",
              "      <th>0</th>\n",
              "      <td>AAA</td>\n",
              "      <td>2013J</td>\n",
              "      <td>1752</td>\n",
              "      <td>TMA</td>\n",
              "      <td>19.0</td>\n",
              "      <td>10.0</td>\n",
              "    </tr>\n",
              "    <tr>\n",
              "      <th>1</th>\n",
              "      <td>AAA</td>\n",
              "      <td>2013J</td>\n",
              "      <td>1753</td>\n",
              "      <td>TMA</td>\n",
              "      <td>54.0</td>\n",
              "      <td>20.0</td>\n",
              "    </tr>\n",
              "    <tr>\n",
              "      <th>2</th>\n",
              "      <td>AAA</td>\n",
              "      <td>2013J</td>\n",
              "      <td>1754</td>\n",
              "      <td>TMA</td>\n",
              "      <td>117.0</td>\n",
              "      <td>20.0</td>\n",
              "    </tr>\n",
              "    <tr>\n",
              "      <th>3</th>\n",
              "      <td>AAA</td>\n",
              "      <td>2013J</td>\n",
              "      <td>1755</td>\n",
              "      <td>TMA</td>\n",
              "      <td>166.0</td>\n",
              "      <td>20.0</td>\n",
              "    </tr>\n",
              "    <tr>\n",
              "      <th>4</th>\n",
              "      <td>AAA</td>\n",
              "      <td>2013J</td>\n",
              "      <td>1756</td>\n",
              "      <td>TMA</td>\n",
              "      <td>215.0</td>\n",
              "      <td>30.0</td>\n",
              "    </tr>\n",
              "    <tr>\n",
              "      <th>...</th>\n",
              "      <td>...</td>\n",
              "      <td>...</td>\n",
              "      <td>...</td>\n",
              "      <td>...</td>\n",
              "      <td>...</td>\n",
              "      <td>...</td>\n",
              "    </tr>\n",
              "    <tr>\n",
              "      <th>201</th>\n",
              "      <td>GGG</td>\n",
              "      <td>2014J</td>\n",
              "      <td>37443</td>\n",
              "      <td>CMA</td>\n",
              "      <td>229.0</td>\n",
              "      <td>0.0</td>\n",
              "    </tr>\n",
              "    <tr>\n",
              "      <th>202</th>\n",
              "      <td>GGG</td>\n",
              "      <td>2014J</td>\n",
              "      <td>37435</td>\n",
              "      <td>TMA</td>\n",
              "      <td>61.0</td>\n",
              "      <td>0.0</td>\n",
              "    </tr>\n",
              "    <tr>\n",
              "      <th>203</th>\n",
              "      <td>GGG</td>\n",
              "      <td>2014J</td>\n",
              "      <td>37436</td>\n",
              "      <td>TMA</td>\n",
              "      <td>124.0</td>\n",
              "      <td>0.0</td>\n",
              "    </tr>\n",
              "    <tr>\n",
              "      <th>204</th>\n",
              "      <td>GGG</td>\n",
              "      <td>2014J</td>\n",
              "      <td>37437</td>\n",
              "      <td>TMA</td>\n",
              "      <td>173.0</td>\n",
              "      <td>0.0</td>\n",
              "    </tr>\n",
              "    <tr>\n",
              "      <th>205</th>\n",
              "      <td>GGG</td>\n",
              "      <td>2014J</td>\n",
              "      <td>37444</td>\n",
              "      <td>Exam</td>\n",
              "      <td>229.0</td>\n",
              "      <td>100.0</td>\n",
              "    </tr>\n",
              "  </tbody>\n",
              "</table>\n",
              "<p>206 rows × 6 columns</p>\n",
              "</div>\n",
              "    <div class=\"colab-df-buttons\">\n",
              "\n",
              "  <div class=\"colab-df-container\">\n",
              "    <button class=\"colab-df-convert\" onclick=\"convertToInteractive('df-8d6009a3-9969-4df9-a72f-8ac45f0e51a1')\"\n",
              "            title=\"Convert this dataframe to an interactive table.\"\n",
              "            style=\"display:none;\">\n",
              "\n",
              "  <svg xmlns=\"http://www.w3.org/2000/svg\" height=\"24px\" viewBox=\"0 -960 960 960\">\n",
              "    <path d=\"M120-120v-720h720v720H120Zm60-500h600v-160H180v160Zm220 220h160v-160H400v160Zm0 220h160v-160H400v160ZM180-400h160v-160H180v160Zm440 0h160v-160H620v160ZM180-180h160v-160H180v160Zm440 0h160v-160H620v160Z\"/>\n",
              "  </svg>\n",
              "    </button>\n",
              "\n",
              "  <style>\n",
              "    .colab-df-container {\n",
              "      display:flex;\n",
              "      gap: 12px;\n",
              "    }\n",
              "\n",
              "    .colab-df-convert {\n",
              "      background-color: #E8F0FE;\n",
              "      border: none;\n",
              "      border-radius: 50%;\n",
              "      cursor: pointer;\n",
              "      display: none;\n",
              "      fill: #1967D2;\n",
              "      height: 32px;\n",
              "      padding: 0 0 0 0;\n",
              "      width: 32px;\n",
              "    }\n",
              "\n",
              "    .colab-df-convert:hover {\n",
              "      background-color: #E2EBFA;\n",
              "      box-shadow: 0px 1px 2px rgba(60, 64, 67, 0.3), 0px 1px 3px 1px rgba(60, 64, 67, 0.15);\n",
              "      fill: #174EA6;\n",
              "    }\n",
              "\n",
              "    .colab-df-buttons div {\n",
              "      margin-bottom: 4px;\n",
              "    }\n",
              "\n",
              "    [theme=dark] .colab-df-convert {\n",
              "      background-color: #3B4455;\n",
              "      fill: #D2E3FC;\n",
              "    }\n",
              "\n",
              "    [theme=dark] .colab-df-convert:hover {\n",
              "      background-color: #434B5C;\n",
              "      box-shadow: 0px 1px 3px 1px rgba(0, 0, 0, 0.15);\n",
              "      filter: drop-shadow(0px 1px 2px rgba(0, 0, 0, 0.3));\n",
              "      fill: #FFFFFF;\n",
              "    }\n",
              "  </style>\n",
              "\n",
              "    <script>\n",
              "      const buttonEl =\n",
              "        document.querySelector('#df-8d6009a3-9969-4df9-a72f-8ac45f0e51a1 button.colab-df-convert');\n",
              "      buttonEl.style.display =\n",
              "        google.colab.kernel.accessAllowed ? 'block' : 'none';\n",
              "\n",
              "      async function convertToInteractive(key) {\n",
              "        const element = document.querySelector('#df-8d6009a3-9969-4df9-a72f-8ac45f0e51a1');\n",
              "        const dataTable =\n",
              "          await google.colab.kernel.invokeFunction('convertToInteractive',\n",
              "                                                    [key], {});\n",
              "        if (!dataTable) return;\n",
              "\n",
              "        const docLinkHtml = 'Like what you see? Visit the ' +\n",
              "          '<a target=\"_blank\" href=https://colab.research.google.com/notebooks/data_table.ipynb>data table notebook</a>'\n",
              "          + ' to learn more about interactive tables.';\n",
              "        element.innerHTML = '';\n",
              "        dataTable['output_type'] = 'display_data';\n",
              "        await google.colab.output.renderOutput(dataTable, element);\n",
              "        const docLink = document.createElement('div');\n",
              "        docLink.innerHTML = docLinkHtml;\n",
              "        element.appendChild(docLink);\n",
              "      }\n",
              "    </script>\n",
              "  </div>\n",
              "\n",
              "\n",
              "<div id=\"df-475216d5-bbae-4e34-aa8e-3046f1f081f7\">\n",
              "  <button class=\"colab-df-quickchart\" onclick=\"quickchart('df-475216d5-bbae-4e34-aa8e-3046f1f081f7')\"\n",
              "            title=\"Suggest charts.\"\n",
              "            style=\"display:none;\">\n",
              "\n",
              "<svg xmlns=\"http://www.w3.org/2000/svg\" height=\"24px\"viewBox=\"0 0 24 24\"\n",
              "     width=\"24px\">\n",
              "    <g>\n",
              "        <path d=\"M19 3H5c-1.1 0-2 .9-2 2v14c0 1.1.9 2 2 2h14c1.1 0 2-.9 2-2V5c0-1.1-.9-2-2-2zM9 17H7v-7h2v7zm4 0h-2V7h2v10zm4 0h-2v-4h2v4z\"/>\n",
              "    </g>\n",
              "</svg>\n",
              "  </button>\n",
              "\n",
              "<style>\n",
              "  .colab-df-quickchart {\n",
              "      --bg-color: #E8F0FE;\n",
              "      --fill-color: #1967D2;\n",
              "      --hover-bg-color: #E2EBFA;\n",
              "      --hover-fill-color: #174EA6;\n",
              "      --disabled-fill-color: #AAA;\n",
              "      --disabled-bg-color: #DDD;\n",
              "  }\n",
              "\n",
              "  [theme=dark] .colab-df-quickchart {\n",
              "      --bg-color: #3B4455;\n",
              "      --fill-color: #D2E3FC;\n",
              "      --hover-bg-color: #434B5C;\n",
              "      --hover-fill-color: #FFFFFF;\n",
              "      --disabled-bg-color: #3B4455;\n",
              "      --disabled-fill-color: #666;\n",
              "  }\n",
              "\n",
              "  .colab-df-quickchart {\n",
              "    background-color: var(--bg-color);\n",
              "    border: none;\n",
              "    border-radius: 50%;\n",
              "    cursor: pointer;\n",
              "    display: none;\n",
              "    fill: var(--fill-color);\n",
              "    height: 32px;\n",
              "    padding: 0;\n",
              "    width: 32px;\n",
              "  }\n",
              "\n",
              "  .colab-df-quickchart:hover {\n",
              "    background-color: var(--hover-bg-color);\n",
              "    box-shadow: 0 1px 2px rgba(60, 64, 67, 0.3), 0 1px 3px 1px rgba(60, 64, 67, 0.15);\n",
              "    fill: var(--button-hover-fill-color);\n",
              "  }\n",
              "\n",
              "  .colab-df-quickchart-complete:disabled,\n",
              "  .colab-df-quickchart-complete:disabled:hover {\n",
              "    background-color: var(--disabled-bg-color);\n",
              "    fill: var(--disabled-fill-color);\n",
              "    box-shadow: none;\n",
              "  }\n",
              "\n",
              "  .colab-df-spinner {\n",
              "    border: 2px solid var(--fill-color);\n",
              "    border-color: transparent;\n",
              "    border-bottom-color: var(--fill-color);\n",
              "    animation:\n",
              "      spin 1s steps(1) infinite;\n",
              "  }\n",
              "\n",
              "  @keyframes spin {\n",
              "    0% {\n",
              "      border-color: transparent;\n",
              "      border-bottom-color: var(--fill-color);\n",
              "      border-left-color: var(--fill-color);\n",
              "    }\n",
              "    20% {\n",
              "      border-color: transparent;\n",
              "      border-left-color: var(--fill-color);\n",
              "      border-top-color: var(--fill-color);\n",
              "    }\n",
              "    30% {\n",
              "      border-color: transparent;\n",
              "      border-left-color: var(--fill-color);\n",
              "      border-top-color: var(--fill-color);\n",
              "      border-right-color: var(--fill-color);\n",
              "    }\n",
              "    40% {\n",
              "      border-color: transparent;\n",
              "      border-right-color: var(--fill-color);\n",
              "      border-top-color: var(--fill-color);\n",
              "    }\n",
              "    60% {\n",
              "      border-color: transparent;\n",
              "      border-right-color: var(--fill-color);\n",
              "    }\n",
              "    80% {\n",
              "      border-color: transparent;\n",
              "      border-right-color: var(--fill-color);\n",
              "      border-bottom-color: var(--fill-color);\n",
              "    }\n",
              "    90% {\n",
              "      border-color: transparent;\n",
              "      border-bottom-color: var(--fill-color);\n",
              "    }\n",
              "  }\n",
              "</style>\n",
              "\n",
              "  <script>\n",
              "    async function quickchart(key) {\n",
              "      const quickchartButtonEl =\n",
              "        document.querySelector('#' + key + ' button');\n",
              "      quickchartButtonEl.disabled = true;  // To prevent multiple clicks.\n",
              "      quickchartButtonEl.classList.add('colab-df-spinner');\n",
              "      try {\n",
              "        const charts = await google.colab.kernel.invokeFunction(\n",
              "            'suggestCharts', [key], {});\n",
              "      } catch (error) {\n",
              "        console.error('Error during call to suggestCharts:', error);\n",
              "      }\n",
              "      quickchartButtonEl.classList.remove('colab-df-spinner');\n",
              "      quickchartButtonEl.classList.add('colab-df-quickchart-complete');\n",
              "    }\n",
              "    (() => {\n",
              "      let quickchartButtonEl =\n",
              "        document.querySelector('#df-475216d5-bbae-4e34-aa8e-3046f1f081f7 button');\n",
              "      quickchartButtonEl.style.display =\n",
              "        google.colab.kernel.accessAllowed ? 'block' : 'none';\n",
              "    })();\n",
              "  </script>\n",
              "</div>\n",
              "    </div>\n",
              "  </div>\n"
            ]
          },
          "metadata": {},
          "execution_count": 4
        }
      ]
    },
    {
      "cell_type": "code",
      "source": [
        "# Melihat informasi dasar tentang dataset\n",
        "print(\"Informasi Dataset:\")\n",
        "print(df.info())\n",
        "\n",
        "# Menampilkan 5 baris pertama dari dataset\n",
        "print(\"\\n5 Baris Pertama Dataset:\")\n",
        "print(df.head())\n",
        "\n",
        "# Menampilkan 5 baris terakhir dari dataset\n",
        "print(\"\\n5 Baris terakhir Dataset:\")\n",
        "print(df.tail())\n",
        "\n",
        "# Statistik deskriptif untuk kolom numerik\n",
        "print(\"\\nStatistik Deskriptif:\")\n",
        "print(df.describe())\n",
        "\n",
        "# Melihat jumlah missing values pada setiap kolom\n",
        "print(\"\\nJumlah Missing Values pada Setiap Kolom:\")\n",
        "print(df.isnull().sum())\n",
        "\n",
        "# shape dataset\n",
        "print(\"\\nShape Dataset:\")\n",
        "print(df.shape)"
      ],
      "metadata": {
        "colab": {
          "base_uri": "https://localhost:8080/"
        },
        "id": "ThLRfDHVLTa4",
        "outputId": "e892745f-fbfc-4767-9933-a1861c05dcd9"
      },
      "execution_count": 5,
      "outputs": [
        {
          "output_type": "stream",
          "name": "stdout",
          "text": [
            "Informasi Dataset:\n",
            "<class 'pandas.core.frame.DataFrame'>\n",
            "RangeIndex: 206 entries, 0 to 205\n",
            "Data columns (total 6 columns):\n",
            " #   Column             Non-Null Count  Dtype  \n",
            "---  ------             --------------  -----  \n",
            " 0   code_module        206 non-null    object \n",
            " 1   code_presentation  206 non-null    object \n",
            " 2   id_assessment      206 non-null    int64  \n",
            " 3   assessment_type    206 non-null    object \n",
            " 4   date               195 non-null    float64\n",
            " 5   weight             206 non-null    float64\n",
            "dtypes: float64(2), int64(1), object(3)\n",
            "memory usage: 9.8+ KB\n",
            "None\n",
            "\n",
            "5 Baris Pertama Dataset:\n",
            "  code_module code_presentation  id_assessment assessment_type   date  weight\n",
            "0         AAA             2013J           1752             TMA   19.0    10.0\n",
            "1         AAA             2013J           1753             TMA   54.0    20.0\n",
            "2         AAA             2013J           1754             TMA  117.0    20.0\n",
            "3         AAA             2013J           1755             TMA  166.0    20.0\n",
            "4         AAA             2013J           1756             TMA  215.0    30.0\n",
            "\n",
            "5 Baris terakhir Dataset:\n",
            "    code_module code_presentation  id_assessment assessment_type   date  \\\n",
            "201         GGG             2014J          37443             CMA  229.0   \n",
            "202         GGG             2014J          37435             TMA   61.0   \n",
            "203         GGG             2014J          37436             TMA  124.0   \n",
            "204         GGG             2014J          37437             TMA  173.0   \n",
            "205         GGG             2014J          37444            Exam  229.0   \n",
            "\n",
            "     weight  \n",
            "201     0.0  \n",
            "202     0.0  \n",
            "203     0.0  \n",
            "204     0.0  \n",
            "205   100.0  \n",
            "\n",
            "Statistik Deskriptif:\n",
            "       id_assessment        date      weight\n",
            "count     206.000000  195.000000  206.000000\n",
            "mean    26473.975728  145.005128   20.873786\n",
            "std     10098.625521   76.001119   30.384224\n",
            "min      1752.000000   12.000000    0.000000\n",
            "25%     15023.250000   71.000000    0.000000\n",
            "50%     25364.500000  152.000000   12.500000\n",
            "75%     34891.750000  222.000000   24.250000\n",
            "max     40088.000000  261.000000  100.000000\n",
            "\n",
            "Jumlah Missing Values pada Setiap Kolom:\n",
            "code_module           0\n",
            "code_presentation     0\n",
            "id_assessment         0\n",
            "assessment_type       0\n",
            "date                 11\n",
            "weight                0\n",
            "dtype: int64\n",
            "\n",
            "Shape Dataset:\n",
            "(206, 6)\n"
          ]
        }
      ]
    },
    {
      "cell_type": "markdown",
      "source": [
        "Preprocessing"
      ],
      "metadata": {
        "id": "FM0_OQ4TMhpV"
      }
    },
    {
      "cell_type": "code",
      "source": [
        "# Menampilkan jumlah missing values pada setiap kolom\n",
        "missing_data = df.isnull().sum()\n",
        "\n",
        "# Menampilkan kolom-kolom dengan missing values (jika ada)\n",
        "columns_with_missing_data = missing_data[missing_data > 0]\n",
        "print(\"Kolom dengan Missing Values:\")\n",
        "print(columns_with_missing_data)\n",
        "\n",
        "# Menampilkan jumlah total missing values dalam dataset\n",
        "total_missing_values = missing_data.sum()\n",
        "print(\"\\nTotal Missing Values dalam Dataset:\", total_missing_values)"
      ],
      "metadata": {
        "colab": {
          "base_uri": "https://localhost:8080/"
        },
        "id": "ZjMaK801MqcK",
        "outputId": "8c3c831e-04a8-4e66-f702-377d83e0cc24"
      },
      "execution_count": 6,
      "outputs": [
        {
          "output_type": "stream",
          "name": "stdout",
          "text": [
            "Kolom dengan Missing Values:\n",
            "date    11\n",
            "dtype: int64\n",
            "\n",
            "Total Missing Values dalam Dataset: 11\n"
          ]
        }
      ]
    },
    {
      "cell_type": "code",
      "source": [
        "# Handle Missing Values\n",
        "df['date'] = df['date'].interpolate(method='linear')"
      ],
      "metadata": {
        "id": "f6jdNj72My-y"
      },
      "execution_count": 7,
      "outputs": []
    },
    {
      "cell_type": "code",
      "source": [
        "# Menampilkan jumlah missing values pada setiap kolom\n",
        "missing_data = df.isnull().sum()\n",
        "\n",
        "# Menampilkan kolom-kolom dengan missing values (jika ada)\n",
        "columns_with_missing_data = missing_data[missing_data > 0]\n",
        "print(\"Kolom dengan Missing Values:\")\n",
        "print(columns_with_missing_data)\n",
        "\n",
        "# Menampilkan jumlah total missing values dalam dataset\n",
        "total_missing_values = missing_data.sum()\n",
        "print(\"\\nTotal Missing Values dalam Dataset:\", total_missing_values)"
      ],
      "metadata": {
        "colab": {
          "base_uri": "https://localhost:8080/"
        },
        "id": "VBoODSsNNFOu",
        "outputId": "0ddc99d8-de80-44cd-cc37-d6c12c243308"
      },
      "execution_count": 8,
      "outputs": [
        {
          "output_type": "stream",
          "name": "stdout",
          "text": [
            "Kolom dengan Missing Values:\n",
            "Series([], dtype: int64)\n",
            "\n",
            "Total Missing Values dalam Dataset: 0\n"
          ]
        }
      ]
    },
    {
      "cell_type": "markdown",
      "source": [
        "Visualitation"
      ],
      "metadata": {
        "id": "2iw_HPTlOJVW"
      }
    },
    {
      "cell_type": "code",
      "source": [
        "# Visualisasi distribusi data untuk kolom 'weight'\n",
        "plt.figure(figsize=(10, 6))\n",
        "sns.histplot(df['weight'], bins=10, kde=True)\n",
        "plt.title('Distribusi Weight')\n",
        "plt.xlabel('Weight')\n",
        "plt.ylabel('Count')\n",
        "plt.show()"
      ],
      "metadata": {
        "colab": {
          "base_uri": "https://localhost:8080/",
          "height": 564
        },
        "id": "RgJA_IABOL1v",
        "outputId": "3513f4a9-9fa2-44be-9214-0877102e8659"
      },
      "execution_count": 9,
      "outputs": [
        {
          "output_type": "display_data",
          "data": {
            "text/plain": [
              "<Figure size 1000x600 with 1 Axes>"
            ],
            "image/png": "[encoded data removed]"
          },
          "metadata": {}
        }
      ]
    },
    {
      "cell_type": "code",
      "source": [
        "# Visualisasi hubungan antara 'assessment_type' dan 'weight'\n",
        "plt.figure(figsize=(8, 6))\n",
        "sns.boxplot(x='assessment_type', y='weight', data=df)\n",
        "plt.title('Hubungan Assessment Type dan Weight')\n",
        "plt.xlabel('Assessment Type')\n",
        "plt.ylabel('Weight')\n",
        "plt.show()"
      ],
      "metadata": {
        "colab": {
          "base_uri": "https://localhost:8080/",
          "height": 564
        },
        "id": "1F4aYHVtOcf5",
        "outputId": "9d41bc8a-822e-4d92-ed50-8d15fbc5bf70"
      },
      "execution_count": 10,
      "outputs": [
        {
          "output_type": "display_data",
          "data": {
            "text/plain": [
              "<Figure size 800x600 with 1 Axes>"
            ],
            "image/png": "[encoded data removed]"
          },
          "metadata": {}
        }
      ]
    },
    {
      "cell_type": "code",
      "source": [
        "# Visualisasi hubungan antara 'code_module' dan 'weight'\n",
        "plt.figure(figsize=(12, 6))\n",
        "sns.boxplot(x='code_module', y='weight', data=df)\n",
        "plt.title('Hubungan Code Module dan Weight')\n",
        "plt.xlabel('Code Module')\n",
        "plt.ylabel('Weight')\n",
        "plt.show()"
      ],
      "metadata": {
        "colab": {
          "base_uri": "https://localhost:8080/",
          "height": 564
        },
        "id": "JeCXiMMYOhx6",
        "outputId": "3d14b874-bd8e-4654-d075-f39e8d6c0fc4"
      },
      "execution_count": 11,
      "outputs": [
        {
          "output_type": "display_data",
          "data": {
            "text/plain": [
              "<Figure size 1200x600 with 1 Axes>"
            ],
            "image/png": "[encoded data removed]"
          },
          "metadata": {}
        }
      ]
    }
  ]
}